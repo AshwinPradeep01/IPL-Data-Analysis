{
 "cells": [
  {
   "cell_type": "code",
   "execution_count": 0,
   "metadata": {
    "application/vnd.databricks.v1+cell": {
     "cellMetadata": {
      "byteLimit": 2048000,
      "rowLimit": 10000
     },
     "inputWidgets": {},
     "nuid": "58769d41-c76d-425e-b212-5c36cec3d09c",
     "showTitle": false,
     "tableResultSettingsMap": {},
     "title": ""
    }
   },
   "outputs": [],
   "source": [
    "from pyspark.sql import SparkSession\n",
    "\n",
    "spark = SparkSession.builder.appName('IPL Data Analysis').getOrCreate()"
   ]
  },
  {
   "cell_type": "code",
   "execution_count": 0,
   "metadata": {
    "application/vnd.databricks.v1+cell": {
     "cellMetadata": {
      "byteLimit": 2048000,
      "rowLimit": 10000
     },
     "inputWidgets": {},
     "nuid": "dba3850d-8a51-4d12-9338-5c7de5997f7a",
     "showTitle": false,
     "tableResultSettingsMap": {},
     "title": ""
    }
   },
   "outputs": [],
   "source": [
    "#  deliveries = spark.read.format(\"csv\").option(\"header\",\"true\").option('inferSchema','true').load(\"s3://ipl-data-latest/deliveries.csv\")\n",
    "deliveries = spark.read.csv('s3://ipl-data-latest/deliveries.csv', header=True,inferSchema = True)"
   ]
  },
  {
   "cell_type": "code",
   "execution_count": 0,
   "metadata": {
    "application/vnd.databricks.v1+cell": {
     "cellMetadata": {
      "byteLimit": 2048000,
      "rowLimit": 10000
     },
     "inputWidgets": {},
     "nuid": "c0078ae3-ba9d-4c59-9f3b-af275fa4452c",
     "showTitle": false,
     "tableResultSettingsMap": {},
     "title": ""
    }
   },
   "outputs": [
    {
     "output_type": "stream",
     "name": "stdout",
     "output_type": "stream",
     "text": [
      "+--------+------+--------------------+--------------------+----+----+-----------+-------+-----------+------------+----------+----------+-----------+---------+----------------+--------------+-------+\n|match_id|inning|        batting_team|        bowling_team|over|ball|     batter| bowler|non_striker|batsman_runs|extra_runs|total_runs|extras_type|is_wicket|player_dismissed|dismissal_kind|fielder|\n+--------+------+--------------------+--------------------+----+----+-----------+-------+-----------+------------+----------+----------+-----------+---------+----------------+--------------+-------+\n|  335982|     1|Kolkata Knight Ri...|Royal Challengers...|   0|   1| SC Ganguly|P Kumar|BB McCullum|           0|         1|         1|    legbyes|        0|              NA|            NA|     NA|\n|  335982|     1|Kolkata Knight Ri...|Royal Challengers...|   0|   2|BB McCullum|P Kumar| SC Ganguly|           0|         0|         0|       NULL|        0|              NA|            NA|     NA|\n|  335982|     1|Kolkata Knight Ri...|Royal Challengers...|   0|   3|BB McCullum|P Kumar| SC Ganguly|           0|         1|         1|      wides|        0|              NA|            NA|     NA|\n|  335982|     1|Kolkata Knight Ri...|Royal Challengers...|   0|   4|BB McCullum|P Kumar| SC Ganguly|           0|         0|         0|       NULL|        0|              NA|            NA|     NA|\n|  335982|     1|Kolkata Knight Ri...|Royal Challengers...|   0|   5|BB McCullum|P Kumar| SC Ganguly|           0|         0|         0|       NULL|        0|              NA|            NA|     NA|\n+--------+------+--------------------+--------------------+----+----+-----------+-------+-----------+------------+----------+----------+-----------+---------+----------------+--------------+-------+\nonly showing top 5 rows\n\n"
     ]
    }
   ],
   "source": [
    "deliveries.show(5)"
   ]
  },
  {
   "cell_type": "code",
   "execution_count": 0,
   "metadata": {
    "application/vnd.databricks.v1+cell": {
     "cellMetadata": {
      "byteLimit": 2048000,
      "rowLimit": 10000
     },
     "inputWidgets": {},
     "nuid": "c2732747-51e9-4346-8f6c-750a5b9eacc3",
     "showTitle": false,
     "tableResultSettingsMap": {},
     "title": ""
    }
   },
   "outputs": [],
   "source": [
    "# The Matches dataset\n",
    "matches = spark.read.format('csv').option('header','true').option('inferSchema','true').load('s3://ipl-data-latest/matches.csv')"
   ]
  },
  {
   "cell_type": "code",
   "execution_count": 0,
   "metadata": {
    "application/vnd.databricks.v1+cell": {
     "cellMetadata": {
      "byteLimit": 2048000,
      "rowLimit": 10000
     },
     "inputWidgets": {},
     "nuid": "8f6ee58f-da75-44b3-8e1d-3bd8509b23a8",
     "showTitle": false,
     "tableResultSettingsMap": {},
     "title": ""
    }
   },
   "outputs": [],
   "source": [
    "# Redefining the schema for the above data\n",
    "from pyspark.sql.types import *\n",
    "\n",
    "matches_schema = StructType([\n",
    "    StructField(\"id\", IntegerType(), True),\n",
    "    StructField(\"season\", StringType(), True),\n",
    "    StructField(\"city\", StringType(), True),\n",
    "    StructField(\"date\", DateType(), True),\n",
    "    StructField(\"match_type\", StringType(), True),\n",
    "    StructField(\"player_of_match\", StringType(), True),\n",
    "    StructField(\"venue\", StringType(), True),\n",
    "    StructField(\"team1\", StringType(), True),\n",
    "    StructField(\"team2\", StringType(), True),\n",
    "    StructField(\"toss_winner\", StringType(), True),\n",
    "    StructField(\"toss_decision\", StringType(), True),\n",
    "    StructField(\"winner\", StringType(), True),\n",
    "    StructField(\"result\", StringType(), True),\n",
    "    StructField(\"result_margin\", IntegerType(), True),  #Integertype\n",
    "    StructField(\"target_runs\", IntegerType(), True),    #Integertype\n",
    "    StructField(\"target_overs\", IntegerType(), True),   #Integertype\n",
    "    StructField(\"super_over\", IntegerType(), True),     #Integertype\n",
    "    StructField(\"method\", StringType(), True),\n",
    "    StructField(\"umpire1\", StringType(), True),\n",
    "    StructField(\"umpire2\", StringType(), True)\n",
    "])\n",
    "\n"
   ]
  },
  {
   "cell_type": "code",
   "execution_count": 0,
   "metadata": {
    "application/vnd.databricks.v1+cell": {
     "cellMetadata": {
      "byteLimit": 2048000,
      "rowLimit": 10000
     },
     "inputWidgets": {},
     "nuid": "1958e1fe-c496-437d-bd79-751dcabd41b0",
     "showTitle": false,
     "tableResultSettingsMap": {},
     "title": ""
    }
   },
   "outputs": [],
   "source": [
    "#Matches Dataset\n",
    "matches =  spark.read.schema(matches_schema).csv('s3://ipl-data-latest/matches.csv', header=True)"
   ]
  },
  {
   "cell_type": "code",
   "execution_count": 0,
   "metadata": {
    "application/vnd.databricks.v1+cell": {
     "cellMetadata": {
      "byteLimit": 2048000,
      "rowLimit": 10000
     },
     "inputWidgets": {},
     "nuid": "0e9373e4-800f-4862-a4b7-d45b4d01064b",
     "showTitle": false,
     "tableResultSettingsMap": {},
     "title": ""
    }
   },
   "outputs": [],
   "source": [
    "from pyspark.sql.functions import col, avg, row_number,when , sum"
   ]
  },
  {
   "cell_type": "code",
   "execution_count": 0,
   "metadata": {
    "application/vnd.databricks.v1+cell": {
     "cellMetadata": {
      "byteLimit": 2048000,
      "rowLimit": 10000
     },
     "inputWidgets": {},
     "nuid": "bb54fb2e-4723-4c88-8067-d591cb5d615e",
     "showTitle": false,
     "tableResultSettingsMap": {},
     "title": ""
    }
   },
   "outputs": [
    {
     "output_type": "stream",
     "name": "stdout",
     "output_type": "stream",
     "text": [
      "+--------+------+------------+------------+----+----+------+------+-----------+------------+----------+----------+-----------+---------+----------------+--------------+-------+\n|match_id|inning|batting_team|bowling_team|over|ball|batter|bowler|non_striker|batsman_runs|extra_runs|total_runs|extras_type|is_wicket|player_dismissed|dismissal_kind|fielder|\n+--------+------+------------+------------+----+----+------+------+-----------+------------+----------+----------+-----------+---------+----------------+--------------+-------+\n+--------+------+------------+------------+----+----+------+------+-----------+------------+----------+----------+-----------+---------+----------------+--------------+-------+\n\n"
     ]
    }
   ],
   "source": [
    "\n",
    "#Filter out the wides and no balls\n",
    "deliveries.filter((col(\"extras_type\")=='wides')&(col(\"extras_type\")=='noballs')).show()\n",
    "# deliveries.filter(deliveries.extras_type !=\"wides\").show()"
   ]
  },
  {
   "cell_type": "code",
   "execution_count": 0,
   "metadata": {
    "application/vnd.databricks.v1+cell": {
     "cellMetadata": {
      "byteLimit": 2048000,
      "rowLimit": 10000
     },
     "inputWidgets": {},
     "nuid": "643f8141-5ac1-44a0-9458-266d8cd5e934",
     "showTitle": false,
     "tableResultSettingsMap": {},
     "title": ""
    }
   },
   "outputs": [
    {
     "output_type": "stream",
     "name": "stdout",
     "output_type": "stream",
     "text": [
      "+---------------------------+\n|batting_team               |\n+---------------------------+\n|Chennai Super Kings        |\n|Deccan Chargers            |\n|Rajasthan Royals           |\n|Royal Challengers Bangalore|\n|Kolkata Knight Riders      |\n|Kings XI Punjab            |\n|Delhi Daredevils           |\n|Mumbai Indians             |\n|Sunrisers Hyderabad        |\n|Kochi Tuskers Kerala       |\n|Pune Warriors              |\n|Rising Pune Supergiant     |\n|Gujarat Lions              |\n|Rising Pune Supergiants    |\n|Punjab Kings               |\n|Delhi Capitals             |\n|Lucknow Super Giants       |\n|Gujarat Titans             |\n|Royal Challengers Bengaluru|\n+---------------------------+\n\n"
     ]
    }
   ],
   "source": [
    "#List of the teams in the dataset\n",
    "team_names = deliveries.select(\"batting_team\").distinct()\n",
    "team_names.show(truncate=False)"
   ]
  },
  {
   "cell_type": "code",
   "execution_count": 0,
   "metadata": {
    "application/vnd.databricks.v1+cell": {
     "cellMetadata": {
      "byteLimit": 2048000,
      "rowLimit": 10000
     },
     "inputWidgets": {},
     "nuid": "cd9f28dc-b814-481e-bee4-46fc45897623",
     "showTitle": false,
     "tableResultSettingsMap": {},
     "title": ""
    }
   },
   "outputs": [
    {
     "output_type": "execute_result",
     "data": {
      "text/plain": [
       "19"
      ]
     },
     "execution_count": 10,
     "metadata": {},
     "output_type": "execute_result"
    }
   ],
   "source": [
    "#Total how many teams are there on the list\n",
    "no_of_teams = deliveries.select('batting_team').distinct().count()\n",
    "no_of_teams"
   ]
  },
  {
   "cell_type": "code",
   "execution_count": 0,
   "metadata": {
    "application/vnd.databricks.v1+cell": {
     "cellMetadata": {
      "byteLimit": 2048000,
      "rowLimit": 10000
     },
     "inputWidgets": {},
     "nuid": "db093b6c-284a-4e11-b8e1-f314080dc396",
     "showTitle": false,
     "tableResultSettingsMap": {},
     "title": ""
    }
   },
   "outputs": [
    {
     "output_type": "stream",
     "name": "stdout",
     "output_type": "stream",
     "text": [
      "+--------------------+-----+\n|        batting_team|count|\n+--------------------+-----+\n| Chennai Super Kings|28651|\n|     Deccan Chargers| 9034|\n|    Rajasthan Royals|26242|\n|Royal Challengers...|28205|\n|Kolkata Knight Ri...|29514|\n|     Kings XI Punjab|22646|\n|    Delhi Daredevils|18786|\n|      Mumbai Indians|31437|\n| Sunrisers Hyderabad|21843|\n|Kochi Tuskers Kerala| 1582|\n|       Pune Warriors| 5443|\n|Rising Pune Super...| 1900|\n|       Gujarat Lions| 3566|\n|Rising Pune Super...| 1580|\n|        Punjab Kings| 6833|\n|      Delhi Capitals|10946|\n|Lucknow Super Giants| 5400|\n|      Gujarat Titans| 5494|\n|Royal Challengers...| 1818|\n+--------------------+-----+\n\n"
     ]
    }
   ],
   "source": [
    "no_of_teams = deliveries.groupBy('batting_team').count()\n",
    "no_of_teams.show()"
   ]
  },
  {
   "cell_type": "code",
   "execution_count": 0,
   "metadata": {
    "application/vnd.databricks.v1+cell": {
     "cellMetadata": {
      "byteLimit": 2048000,
      "rowLimit": 10000
     },
     "inputWidgets": {},
     "nuid": "d8d146da-73cd-4a56-b8b1-2a41bcfd3402",
     "showTitle": false,
     "tableResultSettingsMap": {},
     "title": ""
    }
   },
   "outputs": [],
   "source": [
    "#Calculate the total and avergae runs scored in each match and inning\n",
    "total_and_avg = deliveries.groupBy('match_id','inning').agg(\n",
    "                sum('total_runs').alias('Total Runs'),\n",
    "                avg('total_runs').alias('Average Score')\n",
    ")"
   ]
  },
  {
   "cell_type": "code",
   "execution_count": 0,
   "metadata": {
    "application/vnd.databricks.v1+cell": {
     "cellMetadata": {
      "byteLimit": 2048000,
      "rowLimit": 10000
     },
     "inputWidgets": {},
     "nuid": "a11e2026-0638-403c-9e14-4049815fdc46",
     "showTitle": false,
     "tableResultSettingsMap": {},
     "title": ""
    }
   },
   "outputs": [
    {
     "output_type": "stream",
     "name": "stdout",
     "output_type": "stream",
     "text": [
      "+--------+------+----------+------------------+\n|match_id|inning|Total Runs|     Average Score|\n+--------+------+----------+------------------+\n|  336009|     1|       187|1.4841269841269842|\n|  392196|     1|       165|1.2992125984251968|\n|  419132|     1|       163|1.2834645669291338|\n|  392196|     2|       169| 1.396694214876033|\n|  335993|     1|       147|1.1666666666666667|\n|  335993|     2|       152|1.4205607476635513|\n|  419133|     2|       162|1.3846153846153846|\n|  392191|     2|       173| 1.453781512605042|\n|  419138|     2|       115|1.0087719298245614|\n|  335983|     1|       240| 1.935483870967742|\n|  336007|     2|       148|1.3214285714285714|\n|  419123|     1|       171|1.3790322580645162|\n|  392216|     1|       168|             1.344|\n|  336004|     2|       133|1.1666666666666667|\n|  336020|     2|       182|1.4918032786885247|\n|  336040|     2|       164|1.3015873015873016|\n|  392186|     1|       158|1.2440944881889764|\n|  419137|     2|       223|             1.784|\n|  392221|     2|       176|1.4193548387096775|\n|  419106|     2|       150|1.1811023622047243|\n+--------+------+----------+------------------+\nonly showing top 20 rows\n\n"
     ]
    }
   ],
   "source": [
    "total_and_avg.show()"
   ]
  },
  {
   "cell_type": "code",
   "execution_count": 0,
   "metadata": {
    "application/vnd.databricks.v1+cell": {
     "cellMetadata": {
      "byteLimit": 2048000,
      "rowLimit": 10000
     },
     "inputWidgets": {},
     "nuid": "94f8c0f3-4b41-4648-9c11-4ca0f12b7ae3",
     "showTitle": false,
     "tableResultSettingsMap": {},
     "title": ""
    }
   },
   "outputs": [],
   "source": [
    "#Import the window function\n",
    "from pyspark.sql.window import Window"
   ]
  },
  {
   "cell_type": "code",
   "execution_count": 0,
   "metadata": {
    "application/vnd.databricks.v1+cell": {
     "cellMetadata": {
      "byteLimit": 2048000,
      "rowLimit": 10000
     },
     "inputWidgets": {},
     "nuid": "1bacea3c-8ac9-423c-8e3e-2bfe182f25c0",
     "showTitle": false,
     "tableResultSettingsMap": {},
     "title": ""
    }
   },
   "outputs": [],
   "source": [
    "#Running total of the runs for matches and innings per over\n",
    "windowSpec = Window.partitionBy('match_id','inning').orderBy('over')\n",
    "deliveries = deliveries.withColumn(\n",
    "    'running_total_runs',\n",
    "    sum(\"total_runs\").over(windowSpec)\n",
    ")\n"
   ]
  },
  {
   "cell_type": "code",
   "execution_count": 0,
   "metadata": {
    "application/vnd.databricks.v1+cell": {
     "cellMetadata": {
      "byteLimit": 2048000,
      "rowLimit": 10000
     },
     "inputWidgets": {},
     "nuid": "d0b0bc90-802f-4300-a154-44d9b5b7be0f",
     "showTitle": false,
     "tableResultSettingsMap": {},
     "title": ""
    }
   },
   "outputs": [
    {
     "output_type": "stream",
     "name": "stdout",
     "output_type": "stream",
     "text": [
      "+--------+------+-------------------+---------------+----+----+---------+-----------+-----------+------------+----------+----------+-----------+---------+----------------+--------------+-------+------------------+\n|match_id|inning|       batting_team|   bowling_team|over|ball|   batter|     bowler|non_striker|batsman_runs|extra_runs|total_runs|extras_type|is_wicket|player_dismissed|dismissal_kind|fielder|running_total_runs|\n+--------+------+-------------------+---------------+----+----+---------+-----------+-----------+------------+----------+----------+-----------+---------+----------------+--------------+-------+------------------+\n|  335983|     1|Chennai Super Kings|Kings XI Punjab|   0|   1| PA Patel|      B Lee|  ML Hayden|           0|         0|         0|       NULL|        0|              NA|            NA|     NA|                 5|\n|  335983|     1|Chennai Super Kings|Kings XI Punjab|   0|   2| PA Patel|      B Lee|  ML Hayden|           0|         0|         0|       NULL|        0|              NA|            NA|     NA|                 5|\n|  335983|     1|Chennai Super Kings|Kings XI Punjab|   0|   3| PA Patel|      B Lee|  ML Hayden|           1|         0|         1|       NULL|        0|              NA|            NA|     NA|                 5|\n|  335983|     1|Chennai Super Kings|Kings XI Punjab|   0|   4|ML Hayden|      B Lee|   PA Patel|           0|         0|         0|       NULL|        0|              NA|            NA|     NA|                 5|\n|  335983|     1|Chennai Super Kings|Kings XI Punjab|   0|   5|ML Hayden|      B Lee|   PA Patel|           4|         0|         4|       NULL|        0|              NA|            NA|     NA|                 5|\n|  335983|     1|Chennai Super Kings|Kings XI Punjab|   0|   6|ML Hayden|      B Lee|   PA Patel|           0|         0|         0|       NULL|        0|              NA|            NA|     NA|                 5|\n|  335983|     1|Chennai Super Kings|Kings XI Punjab|   1|   1| PA Patel|S Sreesanth|  ML Hayden|           4|         0|         4|       NULL|        0|              NA|            NA|     NA|                20|\n|  335983|     1|Chennai Super Kings|Kings XI Punjab|   1|   2| PA Patel|S Sreesanth|  ML Hayden|           4|         0|         4|       NULL|        0|              NA|            NA|     NA|                20|\n|  335983|     1|Chennai Super Kings|Kings XI Punjab|   1|   3| PA Patel|S Sreesanth|  ML Hayden|           4|         0|         4|       NULL|        0|              NA|            NA|     NA|                20|\n|  335983|     1|Chennai Super Kings|Kings XI Punjab|   1|   4| PA Patel|S Sreesanth|  ML Hayden|           2|         0|         2|       NULL|        0|              NA|            NA|     NA|                20|\n+--------+------+-------------------+---------------+----+----+---------+-----------+-----------+------------+----------+----------+-----------+---------+----------------+--------------+-------+------------------+\nonly showing top 10 rows\n\n"
     ]
    }
   ],
   "source": [
    "deliveries.show(10)"
   ]
  },
  {
   "cell_type": "code",
   "execution_count": 0,
   "metadata": {
    "application/vnd.databricks.v1+cell": {
     "cellMetadata": {
      "byteLimit": 2048000,
      "rowLimit": 10000
     },
     "inputWidgets": {},
     "nuid": "ee160636-b384-4c69-b373-609d16cf7e4f",
     "showTitle": false,
     "tableResultSettingsMap": {},
     "title": ""
    }
   },
   "outputs": [
    {
     "output_type": "execute_result",
     "data": {
      "text/plain": [
       "DataFrame[match_id: int, inning: int, batting_team: string, bowling_team: string, over: int, ball: int, batter: string, bowler: string, non_striker: string, batsman_runs: int, extra_runs: int, total_runs: int, extras_type: string, is_wicket: int, player_dismissed: string, dismissal_kind: string, fielder: string, running_total_runs: bigint, high_impact_balls: boolean]"
      ]
     },
     "execution_count": 17,
     "metadata": {},
     "output_type": "execute_result"
    }
   ],
   "source": [
    "#Flagging high impact bowls (either a wicket or more than a six)\n",
    "deliveries.withColumn(\n",
    "    'high_impact_balls',\n",
    "    when((col(\"total_runs\")+col('extra_runs')>6) | (col('is_wicket')==1),True).otherwise(False)\n",
    ")"
   ]
  },
  {
   "cell_type": "code",
   "execution_count": 0,
   "metadata": {
    "application/vnd.databricks.v1+cell": {
     "cellMetadata": {
      "byteLimit": 2048000,
      "rowLimit": 10000
     },
     "inputWidgets": {},
     "nuid": "ec41bc8d-054f-4262-a4a8-6a4696c7828a",
     "showTitle": false,
     "tableResultSettingsMap": {},
     "title": ""
    }
   },
   "outputs": [
    {
     "output_type": "stream",
     "name": "stdout",
     "output_type": "stream",
     "text": [
      "root\n |-- match_id: integer (nullable = true)\n |-- inning: integer (nullable = true)\n |-- batting_team: string (nullable = true)\n |-- bowling_team: string (nullable = true)\n |-- over: integer (nullable = true)\n |-- ball: integer (nullable = true)\n |-- batter: string (nullable = true)\n |-- bowler: string (nullable = true)\n |-- non_striker: string (nullable = true)\n |-- batsman_runs: integer (nullable = true)\n |-- extra_runs: integer (nullable = true)\n |-- total_runs: integer (nullable = true)\n |-- extras_type: string (nullable = true)\n |-- is_wicket: integer (nullable = true)\n |-- player_dismissed: string (nullable = true)\n |-- dismissal_kind: string (nullable = true)\n |-- fielder: string (nullable = true)\n |-- running_total_runs: long (nullable = true)\n\n"
     ]
    }
   ],
   "source": [
    "deliveries.printSchema()"
   ]
  },
  {
   "cell_type": "code",
   "execution_count": 0,
   "metadata": {
    "application/vnd.databricks.v1+cell": {
     "cellMetadata": {
      "byteLimit": 2048000,
      "rowLimit": 10000
     },
     "inputWidgets": {},
     "nuid": "a8bad21c-7c34-4a4a-8124-464db9bf399f",
     "showTitle": false,
     "tableResultSettingsMap": {},
     "title": ""
    }
   },
   "outputs": [
    {
     "output_type": "stream",
     "name": "stdout",
     "output_type": "stream",
     "text": [
      "root\n |-- id: integer (nullable = true)\n |-- season: string (nullable = true)\n |-- city: string (nullable = true)\n |-- date: date (nullable = true)\n |-- match_type: string (nullable = true)\n |-- player_of_match: string (nullable = true)\n |-- venue: string (nullable = true)\n |-- team1: string (nullable = true)\n |-- team2: string (nullable = true)\n |-- toss_winner: string (nullable = true)\n |-- toss_decision: string (nullable = true)\n |-- winner: string (nullable = true)\n |-- result: string (nullable = true)\n |-- result_margin: integer (nullable = true)\n |-- target_runs: integer (nullable = true)\n |-- target_overs: integer (nullable = true)\n |-- super_over: integer (nullable = true)\n |-- method: string (nullable = true)\n |-- umpire1: string (nullable = true)\n |-- umpire2: string (nullable = true)\n\n"
     ]
    }
   ],
   "source": [
    "matches.printSchema()"
   ]
  },
  {
   "cell_type": "code",
   "execution_count": 0,
   "metadata": {
    "application/vnd.databricks.v1+cell": {
     "cellMetadata": {
      "byteLimit": 2048000,
      "rowLimit": 10000
     },
     "inputWidgets": {},
     "nuid": "c46f203f-fc98-4bf0-971f-82ca987ec3e2",
     "showTitle": false,
     "tableResultSettingsMap": {},
     "title": ""
    }
   },
   "outputs": [
    {
     "output_type": "stream",
     "name": "stdout",
     "output_type": "stream",
     "text": [
      "+------+-------+----------+----------+----------+---------------+--------------------+--------------------+--------------------+--------------------+-------------+--------------------+------+-------------+-----------+------------+----------+------+---------+-----------+----+-----+---+-----------------+\n|    id| season|      city|      date|match_type|player_of_match|               venue|               team1|               team2|         toss_winner|toss_decision|              winner|result|result_margin|target_runs|target_overs|super_over|method|  umpire1|    umpire2|year|month|day|toss_match_winner|\n+------+-------+----------+----------+----------+---------------+--------------------+--------------------+--------------------+--------------------+-------------+--------------------+------+-------------+-----------+------------+----------+------+---------+-----------+----+-----+---+-----------------+\n|335982|2007/08| Bangalore|2008-04-18|    League|    BB McCullum|M Chinnaswamy Sta...|Royal Challengers...|Kolkata Knight Ri...|Royal Challengers...|        field|Kolkata Knight Ri...|  runs|          140|        223|          20|      NULL|    NA|Asad Rauf|RE Koertzen|2008|    4| 18|               No|\n|335983|2007/08|Chandigarh|2008-04-19|    League|     MEK Hussey|Punjab Cricket As...|     Kings XI Punjab| Chennai Super Kings| Chennai Super Kings|          bat| Chennai Super Kings|  runs|           33|        241|          20|      NULL|    NA|MR Benson| SL Shastri|2008|    4| 19|              Yes|\n+------+-------+----------+----------+----------+---------------+--------------------+--------------------+--------------------+--------------------+-------------+--------------------+------+-------------+-----------+------------+----------+------+---------+-----------+----+-----+---+-----------------+\nonly showing top 2 rows\n\n"
     ]
    }
   ],
   "source": [
    "from pyspark.sql.functions import year, month, dayofmonth, when\n",
    "\n",
    "# Extracting year, month, and day from the matches \"date\" for more detailed time-based analysis\n",
    "matches = matches.withColumn(\"year\", year(\"date\"))\n",
    "matches = matches.withColumn(\"month\", month(\"date\"))\n",
    "matches = matches.withColumn(\"day\", dayofmonth(\"date\"))\n",
    "\n",
    "# High margin win: categorizing win margins into 'high', 'medium', and 'low'\n",
    "High_margin_calc = matches.withColumn(\n",
    "    \"win_margin_category\",\n",
    "    when(col(\"result_margin\") >= 100, \"High\")\n",
    "    .when((col(\"result_margin\") >= 50) & (col(\"result_margin\") < 100), \"Medium\")\n",
    "    .otherwise(\"Low\")\n",
    ")\n",
    "\n",
    "# Analyze the impact of the toss: who wins the toss and the match\n",
    "matches = matches.withColumn(\n",
    "    \"toss_match_winner\",\n",
    "    when(col(\"toss_winner\") == col(\"winner\"), \"Yes\").otherwise(\"No\")\n",
    ")\n",
    "\n",
    "# Show the enhanced match DataFrame\n",
    "matches.show(2)"
   ]
  },
  {
   "cell_type": "code",
   "execution_count": 0,
   "metadata": {
    "application/vnd.databricks.v1+cell": {
     "cellMetadata": {
      "byteLimit": 2048000,
      "rowLimit": 10000
     },
     "inputWidgets": {},
     "nuid": "0153e0b1-f164-4cac-807d-ce6c2c720add",
     "showTitle": false,
     "tableResultSettingsMap": {},
     "title": ""
    }
   },
   "outputs": [],
   "source": [
    "deliveries.createOrReplaceTempView(\"deliveries\")\n",
    "matches.createOrReplaceTempView(\"matches\")"
   ]
  },
  {
   "cell_type": "code",
   "execution_count": 0,
   "metadata": {
    "application/vnd.databricks.v1+cell": {
     "cellMetadata": {
      "byteLimit": 2048000,
      "rowLimit": 10000
     },
     "inputWidgets": {},
     "nuid": "f2699eaa-ced0-4044-a12d-264465b9e7c6",
     "showTitle": false,
     "tableResultSettingsMap": {},
     "title": ""
    }
   },
   "outputs": [
    {
     "output_type": "stream",
     "name": "stdout",
     "output_type": "stream",
     "text": [
      "Most prolific batsman: V Kohli\nTotal Runs by V Kohli: 8014\n"
     ]
    }
   ],
   "source": [
    "# Question: Who is the most prolific batsman (runs scored)\n",
    "most_runs_batsman = deliveries.groupBy(\"batter\").agg(sum(\"batsman_runs\").alias(\"total_runs\")) \\\n",
    "                     .orderBy(\"total_runs\", ascending=False).first().batter\n",
    "most_runs = deliveries.groupBy(\"batter\").agg(sum(\"batsman_runs\").alias(\"total_runs\")) \\\n",
    "                     .orderBy(\"total_runs\", ascending=False).first().total_runs\n",
    "print(f\"Most prolific batsman: {most_runs_batsman}\")\n",
    "print(f\"Total Runs by {most_runs_batsman}: {most_runs}\")"
   ]
  },
  {
   "cell_type": "code",
   "execution_count": 0,
   "metadata": {
    "application/vnd.databricks.v1+cell": {
     "cellMetadata": {
      "byteLimit": 2048000,
      "rowLimit": 10000
     },
     "inputWidgets": {},
     "nuid": "be15759b-d56a-4c81-96a8-caf6e3a8a914",
     "showTitle": false,
     "tableResultSettingsMap": {},
     "title": ""
    }
   },
   "outputs": [
    {
     "output_type": "stream",
     "name": "stdout",
     "output_type": "stream",
     "text": [
      "Bowler conceding most runs: Row(bowler='R Ashwin', runs_conceded=5435)\n"
     ]
    }
   ],
   "source": [
    "# Question 2: Bowler conceding most runs\n",
    "most_runs_conceded_bowler = deliveries.groupBy(\"bowler\").agg(\n",
    "                                sum(\"total_runs\").alias(\"runs_conceded\")) \\\n",
    "                               .orderBy(\"runs_conceded\", ascending=False).first()\n",
    "most_runs_conceded_bowler_name = most_runs_conceded_bowler.bowler\n",
    "\n",
    "print(f\"Bowler conceding most runs: {most_runs_conceded_bowler}\")"
   ]
  },
  {
   "cell_type": "code",
   "execution_count": 0,
   "metadata": {
    "application/vnd.databricks.v1+cell": {
     "cellMetadata": {
      "byteLimit": 2048000,
      "rowLimit": 10000
     },
     "inputWidgets": {},
     "nuid": "b63cfb20-c7f6-4699-9053-19f9f5fe54ff",
     "showTitle": false,
     "tableResultSettingsMap": {},
     "title": ""
    }
   },
   "outputs": [
    {
     "output_type": "stream",
     "name": "stdout",
     "output_type": "stream",
     "text": [
      "+---------+-------------+------------+------------------+\n|   bowler|runs_conceded|overs_bowled|           economy|\n+---------+-------------+------------+------------------+\n| R Ashwin|         5435|         756| 7.189153439153439|\n|PP Chawla|         5179|         646|  8.01702786377709|\n|  B Kumar|         5051|         657| 7.687975646879757|\n|RA Jadeja|         4917|         643|7.6469673405909795|\n|YS Chahal|         4681|         591| 7.920473773265652|\n+---------+-------------+------------+------------------+\n\n"
     ]
    }
   ],
   "source": [
    "from pyspark.sql.functions import *\n",
    "\n",
    "bowler_stats = deliveries.groupBy(\"bowler\", \"match_id\", \"inning\", \"over\") \\\n",
    "    .agg(sum(\"total_runs\").alias(\"runs_conceded_per_over\")) \\\n",
    "    .groupBy(\"bowler\") \\\n",
    "    .agg(\n",
    "        sum(\"runs_conceded_per_over\").alias(\"runs_conceded\"),\n",
    "        count(\"*\").alias(\"overs_bowled\")  # Count the groups = distinct overs\n",
    "    )\n",
    "\n",
    "bowler_economy = bowler_stats.withColumn(\n",
    "                \"economy\", col(\"runs_conceded\") / col(\"overs_bowled\")\n",
    "    )\n",
    "top_5_most_runs_conceded = bowler_economy.orderBy(\"runs_conceded\", ascending=False).limit(5)\n",
    "\n",
    "top_5_most_runs_conceded.show()"
   ]
  },
  {
   "cell_type": "code",
   "execution_count": 0,
   "metadata": {
    "application/vnd.databricks.v1+cell": {
     "cellMetadata": {
      "byteLimit": 2048000,
      "rowLimit": 10000
     },
     "inputWidgets": {},
     "nuid": "d7ab7467-3ce6-49c3-aa6b-d3d025281e6a",
     "showTitle": false,
     "tableResultSettingsMap": {},
     "title": ""
    }
   },
   "outputs": [
    {
     "output_type": "stream",
     "name": "stdout",
     "output_type": "stream",
     "text": [
      "+---------+----------+-----------+------------------+\n|   batter|total_runs|total_balls|       strike_rate|\n+---------+----------+-----------+------------------+\n|  V Kohli|      8014|       6236|128.51186658114176|\n| S Dhawan|      6769|       5483|123.45431333211745|\n|RG Sharma|      6630|       5183|127.91819409608335|\n|DA Warner|      6567|       4849| 135.4299855640338|\n| SK Raina|      5536|       4177|132.53531242518554|\n+---------+----------+-----------+------------------+\n\n"
     ]
    }
   ],
   "source": [
    "from pyspark.sql.functions import *\n",
    "\n",
    "batsman_stats = deliveries.groupBy(\"batter\") \\\n",
    "    .agg(\n",
    "        sum(\"batsman_runs\").alias(\"total_runs\"),\n",
    "        count(\"*\").alias(\"total_balls\")  \n",
    "    )\n",
    "batsman_strike_rate = batsman_stats.withColumn(\n",
    "    \"strike_rate\", (col(\"total_runs\") / col(\"total_balls\")) * 100\n",
    ")\n",
    "# Top 5 batsmen with their strike rates\n",
    "top_5_batsmen = batsman_strike_rate.orderBy(\"total_runs\", ascending=False).limit(5)\n",
    "\n",
    "top_5_batsmen.show()"
   ]
  },
  {
   "cell_type": "code",
   "execution_count": 0,
   "metadata": {
    "application/vnd.databricks.v1+cell": {
     "cellMetadata": {
      "byteLimit": 2048000,
      "rowLimit": 10000
     },
     "inputWidgets": {},
     "nuid": "11b5b8e2-39d7-42b4-a430-8eeb1fb74596",
     "showTitle": false,
     "tableResultSettingsMap": {},
     "title": ""
    }
   },
   "outputs": [
    {
     "output_type": "stream",
     "name": "stdout",
     "output_type": "stream",
     "text": [
      "Total wickets taken: 260920\n"
     ]
    }
   ],
   "source": [
    "# Question 3: Total wickets taken\n",
    "total_wickets = deliveries.filter(col(\"player_dismissed\").isNotNull()).count()\n",
    "print(f\"Total wickets taken: {total_wickets}\")"
   ]
  },
  {
   "cell_type": "code",
   "execution_count": 0,
   "metadata": {
    "application/vnd.databricks.v1+cell": {
     "cellMetadata": {
      "byteLimit": 2048000,
      "rowLimit": 10000
     },
     "inputWidgets": {},
     "nuid": "6eb47f5b-bda5-458f-a529-a7957f56c6e2",
     "showTitle": false,
     "tableResultSettingsMap": {},
     "title": ""
    }
   },
   "outputs": [
    {
     "output_type": "stream",
     "name": "stdout",
     "output_type": "stream",
     "text": [
      "+--------------------+------+\n|      dismissal_kind| count|\n+--------------------+------+\n|                  NA|247970|\n|              caught|  8063|\n|              bowled|  2212|\n|             run out|  1114|\n|                 lbw|   800|\n|   caught and bowled|   367|\n|             stumped|   358|\n|          hit wicket|    15|\n|        retired hurt|    15|\n|obstructing the f...|     3|\n|         retired out|     3|\n+--------------------+------+\n\n"
     ]
    }
   ],
   "source": [
    "# Count the occurrences of each dismissal type\n",
    "dismissal_counts = deliveries.groupBy(\"dismissal_kind\").count().orderBy(\"count\", ascending=False)\n",
    "\n",
    "# Display all dismissal types and their counts\n",
    "dismissal_counts.show() "
   ]
  },
  {
   "cell_type": "code",
   "execution_count": 0,
   "metadata": {
    "application/vnd.databricks.v1+cell": {
     "cellMetadata": {
      "byteLimit": 2048000,
      "rowLimit": 10000
     },
     "inputWidgets": {},
     "nuid": "00b1a656-1c4a-4b17-8ea9-75c06e5f62fa",
     "showTitle": false,
     "tableResultSettingsMap": {},
     "title": ""
    }
   },
   "outputs": [
    {
     "output_type": "stream",
     "name": "stdout",
     "output_type": "stream",
     "text": [
      "+--------------------+-----+\n|      dismissal_kind|count|\n+--------------------+-----+\n|              caught| 8063|\n|              bowled| 2212|\n|             run out| 1114|\n|                 lbw|  800|\n|   caught and bowled|  367|\n|             stumped|  358|\n|          hit wicket|   15|\n|        retired hurt|   15|\n|obstructing the f...|    3|\n|         retired out|    3|\n+--------------------+-----+\n\n"
     ]
    }
   ],
   "source": [
    "# Count dismissals, including nulls initially\n",
    "dismissal_counts = deliveries.groupBy(\"dismissal_kind\").count()\n",
    "\n",
    "# Filter out rows where dismissal_kind is NOT NULL\n",
    "dismissal_counts_no_na = dismissal_counts.filter(col(\"dismissal_kind\")!=\"NA\")\n",
    "\n",
    "\n",
    "dismissal_counts_no_na = dismissal_counts_no_na.orderBy(\"count\", ascending=False)\n",
    "\n",
    "\n",
    "dismissal_counts_no_na.show()"
   ]
  },
  {
   "cell_type": "code",
   "execution_count": 0,
   "metadata": {
    "application/vnd.databricks.v1+cell": {
     "cellMetadata": {
      "byteLimit": 2048000,
      "rowLimit": 10000
     },
     "inputWidgets": {},
     "nuid": "d275cf9e-cf41-48d3-81f9-7472d6a87962",
     "showTitle": false,
     "tableResultSettingsMap": {},
     "title": ""
    }
   },
   "outputs": [
    {
     "output_type": "stream",
     "name": "stdout",
     "output_type": "stream",
     "text": [
      "Team with highest total runs (batting): Mumbai Indians\n"
     ]
    }
   ],
   "source": [
    "highest_scoring_batting_team = deliveries.groupBy(\"batting_team\").agg(sum(\"total_runs\").alias(\"team_runs\")) \\\n",
    "                                  .orderBy(\"team_runs\", ascending=False).first().batting_team\n",
    "print(f\"Team with highest total runs (batting): {highest_scoring_batting_team}\")"
   ]
  },
  {
   "cell_type": "code",
   "execution_count": 0,
   "metadata": {
    "application/vnd.databricks.v1+cell": {
     "cellMetadata": {
      "byteLimit": 2048000,
      "rowLimit": 10000
     },
     "inputWidgets": {},
     "nuid": "b401add9-e37b-490a-b04d-5d5852bdd0a3",
     "showTitle": false,
     "tableResultSettingsMap": {},
     "title": ""
    }
   },
   "outputs": [
    {
     "output_type": "stream",
     "name": "stdout",
     "output_type": "stream",
     "text": [
      "Highest Scoring Team: Mumbai Indians\nTotal Runs: 42176\n"
     ]
    }
   ],
   "source": [
    "from pyspark.sql.functions import *\n",
    "\n",
    "# --- 1. Data Cleaning (as before) ---\n",
    "deliveries = deliveries.withColumn(\n",
    "    \"batting_team_cleaned\",\n",
    "    regexp_replace(col(\"batting_team\"), \"Royal Challengers Bangalo.*\", \"Royal Challengers Bangalore\")\n",
    ").withColumn(\n",
    "    \"batting_team_cleaned\",\n",
    "    regexp_replace(col(\"batting_team_cleaned\"), \"Chennai Super King.*\", \"Chennai Super Kings\")\n",
    ").withColumn(\n",
    "    \"batting_team_cleaned\",\n",
    "    regexp_replace(col(\"batting_team_cleaned\"), \"Deccan Chag.*\", \"Deccan Chargers\")\n",
    ").withColumn(\n",
    "    \"batting_team_cleaned\",\n",
    "    regexp_replace(col(\"batting_team_cleaned\"), \"Kolkata Knight.*\", \"Kolkata Knight Riders\")\n",
    ").withColumn(\n",
    "    \"batting_team_cleaned\",\n",
    "    regexp_replace(col(\"batting_team_cleaned\"), \"Rajasthan Roy.*\", \"Rajasthan Royals\")\n",
    ").withColumn(\n",
    "    \"batting_team_cleaned\",\n",
    "    regexp_replace(col(\"batting_team_cleaned\"), \"Mumbai Ind.*\", \"Mumbai Indians\")\n",
    ").withColumn(\n",
    "    \"batting_team_cleaned\",\n",
    "    regexp_replace(col(\"batting_team_cleaned\"), \"Kings XI Punj.*\", \"Kings XI Punjab\")\n",
    ")\n",
    "\n",
    "# --- 2. Highest Scoring Team and Total Runs ---\n",
    "highest_scoring_team_info = deliveries.groupBy(\"batting_team_cleaned\").agg(sum(\"total_runs\").alias(\"team_runs\")) \\\n",
    "    .orderBy(\"team_runs\", ascending=False).first()\n",
    "\n",
    "highest_scoring_team = highest_scoring_team_info.batting_team_cleaned\n",
    "highest_runs = highest_scoring_team_info.team_runs\n",
    "\n",
    "print(f\"Highest Scoring Team: {highest_scoring_team}\")\n",
    "print(f\"Total Runs: {highest_runs}\")\n",
    "\n"
   ]
  },
  {
   "cell_type": "code",
   "execution_count": 0,
   "metadata": {
    "application/vnd.databricks.v1+cell": {
     "cellMetadata": {
      "byteLimit": 2048000,
      "rowLimit": 10000
     },
     "inputWidgets": {},
     "nuid": "a6a70bc8-a9d8-4653-882c-79c782b7a6a8",
     "showTitle": false,
     "tableResultSettingsMap": {},
     "title": ""
    }
   },
   "outputs": [
    {
     "output_type": "execute_result",
     "data": {
      "text/plain": [
       "['id',\n",
       " 'season',\n",
       " 'city',\n",
       " 'date',\n",
       " 'match_type',\n",
       " 'player_of_match',\n",
       " 'venue',\n",
       " 'team1',\n",
       " 'team2',\n",
       " 'toss_winner',\n",
       " 'toss_decision',\n",
       " 'winner',\n",
       " 'result',\n",
       " 'result_margin',\n",
       " 'target_runs',\n",
       " 'target_overs',\n",
       " 'super_over',\n",
       " 'method',\n",
       " 'umpire1',\n",
       " 'umpire2',\n",
       " 'year',\n",
       " 'month',\n",
       " 'day',\n",
       " 'toss_match_winner']"
      ]
     },
     "execution_count": 31,
     "metadata": {},
     "output_type": "execute_result"
    }
   ],
   "source": [
    "matches.columns"
   ]
  },
  {
   "cell_type": "code",
   "execution_count": 0,
   "metadata": {
    "application/vnd.databricks.v1+cell": {
     "cellMetadata": {
      "byteLimit": 2048000,
      "rowLimit": 10000
     },
     "inputWidgets": {},
     "nuid": "7d695d46-6b99-4b27-b811-8db12c1e7db8",
     "showTitle": false,
     "tableResultSettingsMap": {},
     "title": ""
    }
   },
   "outputs": [
    {
     "output_type": "stream",
     "name": "stdout",
     "output_type": "stream",
     "text": [
      "+-------+-----------------------+\n| season|total_matches_in_season|\n+-------+-----------------------+\n|2007/08|                     58|\n|   2009|                     57|\n|2009/10|                     60|\n|   2011|                     73|\n|   2012|                     74|\n|   2013|                     76|\n|   2014|                     60|\n|   2015|                     59|\n|   2016|                     60|\n|   2017|                     59|\n|   2018|                     60|\n|   2019|                     60|\n|2020/21|                     60|\n|   2021|                     60|\n|   2022|                     74|\n|   2023|                     74|\n|   2024|                     71|\n+-------+-----------------------+\n\n"
     ]
    }
   ],
   "source": [
    "#total number of matches played in each season.\n",
    "from pyspark.sql.window import Window\n",
    "\n",
    "WindowSpec = Window.partitionBy('season').orderBy('season')\n",
    "season_matches_df = matches.withColumn(\"total_matches_in_season\", count(\"id\").over(WindowSpec))\n",
    "result = season_matches_df.select(\"season\",\"total_matches_in_season\").distinct()\n",
    "Total_matches_per_season = result.show()"
   ]
  },
  {
   "cell_type": "code",
   "execution_count": 0,
   "metadata": {
    "application/vnd.databricks.v1+cell": {
     "cellMetadata": {
      "byteLimit": 2048000,
      "rowLimit": 10000
     },
     "inputWidgets": {},
     "nuid": "53cbd93e-c693-430a-a6d0-a887f78f1548",
     "showTitle": false,
     "tableResultSettingsMap": {},
     "title": ""
    }
   },
   "outputs": [
    {
     "output_type": "stream",
     "name": "stdout",
     "output_type": "stream",
     "text": [
      "Total matches played : 1095\n"
     ]
    }
   ],
   "source": [
    "#Total Number of matches played until 2024 season\n",
    "Total_matched_played = matches.agg(count('id').alias('total_matches')).collect()[0]['total_matches']\n",
    "print(f'Total matches played : {Total_matched_played}')"
   ]
  },
  {
   "cell_type": "code",
   "execution_count": 0,
   "metadata": {
    "application/vnd.databricks.v1+cell": {
     "cellMetadata": {
      "byteLimit": 2048000,
      "rowLimit": 10000
     },
     "inputWidgets": {},
     "nuid": "64087db8-1ef5-49bc-993c-0a377181d21f",
     "showTitle": false,
     "tableResultSettingsMap": {},
     "title": ""
    }
   },
   "outputs": [
    {
     "output_type": "stream",
     "name": "stdout",
     "output_type": "stream",
     "text": [
      "+---------------+---------+\n|player_of_match|Frequency|\n+---------------+---------+\n| AB de Villiers|       25|\n|       CH Gayle|       22|\n|      RG Sharma|       19|\n|      DA Warner|       18|\n|        V Kohli|       18|\n|       MS Dhoni|       17|\n|      YK Pathan|       16|\n|      SR Watson|       16|\n|      RA Jadeja|       16|\n|      SP Narine|       15|\n+---------------+---------+\n\n"
     ]
    }
   ],
   "source": [
    "#Identifying the player with the most \"Player of the Match\" awards.\n",
    "player_of_the_match = matches.groupBy('player_of_match').agg(count('id').alias('Frequency')).orderBy('Frequency',ascending = False).limit(10).show(10)"
   ]
  },
  {
   "cell_type": "code",
   "execution_count": 0,
   "metadata": {
    "application/vnd.databricks.v1+cell": {
     "cellMetadata": {
      "byteLimit": 2048000,
      "rowLimit": 10000
     },
     "inputWidgets": {},
     "nuid": "d18b277e-b3ae-4536-89c7-4a49a987ba5a",
     "showTitle": false,
     "tableResultSettingsMap": {},
     "title": ""
    }
   },
   "outputs": [
    {
     "output_type": "stream",
     "name": "stdout",
     "output_type": "stream",
     "text": [
      "Total number of matches won by each team\n+---------------------------+-------------+\n|winner                     |winning_count|\n+---------------------------+-------------+\n|Mumbai Indians             |144          |\n|Chennai Super Kings        |138          |\n|Kolkata Knight Riders      |131          |\n|Royal Challengers Bangalore|116          |\n|Rajasthan Royals           |112          |\n|Sunrisers Hyderabad        |88           |\n|Kings XI Punjab            |88           |\n|Delhi Daredevils           |67           |\n|Delhi Capitals             |48           |\n|Deccan Chargers            |29           |\n|Gujarat Titans             |28           |\n|Lucknow Super Giants       |24           |\n|Punjab Kings               |24           |\n|Gujarat Lions              |13           |\n|Pune Warriors              |12           |\n|Rising Pune Supergiant     |10           |\n|Royal Challengers Bengaluru|7            |\n|Kochi Tuskers Kerala       |6            |\n|NA                         |5            |\n|Rising Pune Supergiants    |5            |\n+---------------------------+-------------+\n\n"
     ]
    }
   ],
   "source": [
    "# Calculating the number of matches won by each team.\n",
    "print('Total number of matches won by each team')\n",
    "\n",
    "Winning_team_count = matches.groupBy('winner').agg(count('id').alias('winning_count')).orderBy('winning_count',ascending =False)\n",
    "Winning_team_count.show(truncate=False)"
   ]
  },
  {
   "cell_type": "code",
   "execution_count": 0,
   "metadata": {
    "application/vnd.databricks.v1+cell": {
     "cellMetadata": {
      "byteLimit": 2048000,
      "rowLimit": 10000
     },
     "inputWidgets": {},
     "nuid": "fb397123-e0ca-49a7-98fb-1e9921e229c3",
     "showTitle": false,
     "tableResultSettingsMap": {},
     "title": ""
    }
   },
   "outputs": [
    {
     "output_type": "stream",
     "name": "stdout",
     "output_type": "stream",
     "text": [
      "+-------+------+---------+----------+----------+---------------+--------------------+--------------------+-------------------+--------------------+-------------+------+---------+-------------+-----------+------------+----------+------+---------------+-------------+----+-----+---+-----------------+\n|     id|season|     city|      date|match_type|player_of_match|               venue|               team1|              team2|         toss_winner|toss_decision|winner|   result|result_margin|target_runs|target_overs|super_over|method|        umpire1|      umpire2|year|month|day|toss_match_winner|\n+-------+------+---------+----------+----------+---------------+--------------------+--------------------+-------------------+--------------------+-------------+------+---------+-------------+-----------+------------+----------+------+---------------+-------------+----+-----+---+-----------------+\n| 501265|  2011|    Delhi|2011-05-21|    League|             NA|    Feroz Shah Kotla|    Delhi Daredevils|      Pune Warriors|    Delhi Daredevils|          bat|    NA|no result|         NULL|       NULL|        NULL|      NULL|    NA|      SS Hazare|    RJ Tucker|2011|    5| 21|               No|\n| 829763|  2015|Bangalore|2015-04-29|    League|             NA|M Chinnaswamy Sta...|Royal Challengers...|   Rajasthan Royals|    Rajasthan Royals|        field|    NA|no result|         NULL|       NULL|        NULL|      NULL|    NA|      JD Cloete|    PG Pathak|2015|    4| 29|               No|\n| 829813|  2015|Bangalore|2015-05-17|    League|             NA|M Chinnaswamy Sta...|Royal Challengers...|   Delhi Daredevils|Royal Challengers...|        field|    NA|no result|         NULL|        188|          20|      NULL|    NA|HDPK Dharmasena| K Srinivasan|2015|    5| 17|               No|\n|1178424|  2019|Bengaluru|2019-04-30|    League|             NA|M.Chinnaswamy Sta...|Royal Challengers...|   Rajasthan Royals|    Rajasthan Royals|        field|    NA|no result|         NULL|         63|           5|      NULL|    NA|       NJ Llong|    UV Gandhe|2019|    4| 30|               No|\n|1359519|  2023|  Lucknow|2023-05-03|    League|             NA|Bharat Ratna Shri...|Lucknow Super Giants|Chennai Super Kings| Chennai Super Kings|        field|    NA|no result|         NULL|       NULL|        NULL|      NULL|    NA|   AK Chaudhary|NA Patwardhan|2023|    5|  3|               No|\n+-------+------+---------+----------+----------+---------------+--------------------+--------------------+-------------------+--------------------+-------------+------+---------+-------------+-----------+------------+----------+------+---------------+-------------+----+-----+---+-----------------+\n\n"
     ]
    }
   ],
   "source": [
    "#Just taking a rough check why there are NA values for winner in the dataset, whether its a draw?\n",
    "matches.filter(col('winner')=='NA').show()"
   ]
  },
  {
   "cell_type": "code",
   "execution_count": 0,
   "metadata": {
    "application/vnd.databricks.v1+cell": {
     "cellMetadata": {
      "byteLimit": 2048000,
      "rowLimit": 10000
     },
     "inputWidgets": {},
     "nuid": "a6bddd51-982e-4f5a-ae35-19874f1c1125",
     "showTitle": false,
     "tableResultSettingsMap": {},
     "title": ""
    }
   },
   "outputs": [
    {
     "output_type": "stream",
     "name": "stdout",
     "output_type": "stream",
     "text": [
      "+-------------+-------------+----------------+------------------+-----------------+\n|toss_decision|total_matches|toss_winner_wins|toss_winner_losses|   win_percentage|\n+-------------+-------------+----------------+------------------+-----------------+\n|        field|          704|             377|               327|53.55113636363637|\n|          bat|          391|             177|               214|45.26854219948849|\n+-------------+-------------+----------------+------------------+-----------------+\n\n"
     ]
    }
   ],
   "source": [
    "matches_with_outcomes = matches.withColumn(\n",
    "    \"toss_winner_is_match_winner\",\n",
    "    when(col('toss_winner')==col('winner'),1).otherwise(0)\n",
    ")\n",
    "toss_analysis = matches_with_outcomes.groupBy(\"toss_decision\").agg(\n",
    "    count(\"*\").alias(\"total_matches\"),\n",
    "    count(when(col(\"toss_winner_is_match_winner\") == 1, True)).alias(\"toss_winner_wins\"),\n",
    "    count(when(col(\"toss_winner_is_match_winner\") == 0, True)).alias(\"toss_winner_losses\")\n",
    ")\n",
    "# Calculate win percentage for toss decisions\n",
    "toss_analysis = toss_analysis.withColumn(\n",
    "    \"win_percentage\", \n",
    "    (col(\"toss_winner_wins\") / col(\"total_matches\")) * 100\n",
    ")\n",
    "toss_analysis.show(5)"
   ]
  }
 ],
 "metadata": {
  "application/vnd.databricks.v1+notebook": {
   "computePreferences": null,
   "dashboards": [],
   "environmentMetadata": {
    "base_environment": "",
    "client": "1"
   },
   "language": "python",
   "notebookMetadata": {
    "pythonIndentUnit": 4
   },
   "notebookName": "IPL_DATA_Analysis",
   "widgets": {}
  }
 },
 "nbformat": 4,
 "nbformat_minor": 0
}
